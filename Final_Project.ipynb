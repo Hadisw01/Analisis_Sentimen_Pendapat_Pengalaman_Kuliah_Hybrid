{
 "cells": [
  {
   "cell_type": "code",
   "execution_count": 1,
   "id": "65931551",
   "metadata": {},
   "outputs": [
    {
     "name": "stderr",
     "output_type": "stream",
     "text": [
      "[nltk_data] Downloading package stopwords to\n",
      "[nltk_data]     C:\\Users\\Lenovo\\AppData\\Roaming\\nltk_data...\n",
      "[nltk_data]   Package stopwords is already up-to-date!\n",
      "[nltk_data] Downloading package punkt to\n",
      "[nltk_data]     C:\\Users\\Lenovo\\AppData\\Roaming\\nltk_data...\n",
      "[nltk_data]   Package punkt is already up-to-date!\n",
      "[nltk_data] Downloading package wordnet to\n",
      "[nltk_data]     C:\\Users\\Lenovo\\AppData\\Roaming\\nltk_data...\n",
      "[nltk_data]   Package wordnet is already up-to-date!\n",
      "[nltk_data] Downloading package omw-1.4 to\n",
      "[nltk_data]     C:\\Users\\Lenovo\\AppData\\Roaming\\nltk_data...\n",
      "[nltk_data]   Package omw-1.4 is already up-to-date!\n"
     ]
    },
    {
     "name": "stdout",
     "output_type": "stream",
     "text": [
      "Requirement already satisfied: Sastrawi in c:\\users\\lenovo\\anaconda3\\lib\\site-packages (1.0.1)\n",
      "Requirement already satisfied: swifter in c:\\users\\lenovo\\anaconda3\\lib\\site-packages (1.3.4)\n",
      "Requirement already satisfied: ipywidgets>=7.0.0 in c:\\users\\lenovo\\anaconda3\\lib\\site-packages (from swifter) (7.6.5)\n",
      "Requirement already satisfied: cloudpickle>=0.2.2 in c:\\users\\lenovo\\anaconda3\\lib\\site-packages (from swifter) (2.0.0)\n",
      "Requirement already satisfied: bleach>=3.1.1 in c:\\users\\lenovo\\anaconda3\\lib\\site-packages (from swifter) (4.1.0)\n",
      "Requirement already satisfied: parso>0.4.0 in c:\\users\\lenovo\\anaconda3\\lib\\site-packages (from swifter) (0.8.3)\n",
      "Requirement already satisfied: pandas>=1.0.0 in c:\\users\\lenovo\\anaconda3\\lib\\site-packages (from swifter) (1.5.3)\n",
      "Requirement already satisfied: tqdm>=4.33.0 in c:\\users\\lenovo\\anaconda3\\lib\\site-packages (from swifter) (4.64.1)\n",
      "Requirement already satisfied: psutil>=5.6.6 in c:\\users\\lenovo\\anaconda3\\lib\\site-packages (from swifter) (5.9.0)\n",
      "Requirement already satisfied: dask[dataframe]>=2.10.0 in c:\\users\\lenovo\\anaconda3\\lib\\site-packages (from swifter) (2022.7.0)\n",
      "Requirement already satisfied: packaging in c:\\users\\lenovo\\anaconda3\\lib\\site-packages (from bleach>=3.1.1->swifter) (22.0)\n",
      "Requirement already satisfied: webencodings in c:\\users\\lenovo\\anaconda3\\lib\\site-packages (from bleach>=3.1.1->swifter) (0.5.1)\n",
      "Requirement already satisfied: six>=1.9.0 in c:\\users\\lenovo\\anaconda3\\lib\\site-packages (from bleach>=3.1.1->swifter) (1.16.0)\n",
      "Requirement already satisfied: fsspec>=0.6.0 in c:\\users\\lenovo\\anaconda3\\lib\\site-packages (from dask[dataframe]>=2.10.0->swifter) (2022.11.0)\n",
      "Requirement already satisfied: pyyaml>=5.3.1 in c:\\users\\lenovo\\anaconda3\\lib\\site-packages (from dask[dataframe]>=2.10.0->swifter) (6.0)\n",
      "Requirement already satisfied: partd>=0.3.10 in c:\\users\\lenovo\\anaconda3\\lib\\site-packages (from dask[dataframe]>=2.10.0->swifter) (1.2.0)\n",
      "Requirement already satisfied: toolz>=0.8.2 in c:\\users\\lenovo\\anaconda3\\lib\\site-packages (from dask[dataframe]>=2.10.0->swifter) (0.12.0)\n",
      "Requirement already satisfied: numpy>=1.18 in c:\\users\\lenovo\\anaconda3\\lib\\site-packages (from dask[dataframe]>=2.10.0->swifter) (1.23.5)\n",
      "Requirement already satisfied: ipython-genutils~=0.2.0 in c:\\users\\lenovo\\anaconda3\\lib\\site-packages (from ipywidgets>=7.0.0->swifter) (0.2.0)\n",
      "Requirement already satisfied: nbformat>=4.2.0 in c:\\users\\lenovo\\anaconda3\\lib\\site-packages (from ipywidgets>=7.0.0->swifter) (5.7.0)\n",
      "Requirement already satisfied: jupyterlab-widgets>=1.0.0 in c:\\users\\lenovo\\anaconda3\\lib\\site-packages (from ipywidgets>=7.0.0->swifter) (1.0.0)\n",
      "Requirement already satisfied: ipykernel>=4.5.1 in c:\\users\\lenovo\\anaconda3\\lib\\site-packages (from ipywidgets>=7.0.0->swifter) (6.19.2)\n",
      "Requirement already satisfied: traitlets>=4.3.1 in c:\\users\\lenovo\\anaconda3\\lib\\site-packages (from ipywidgets>=7.0.0->swifter) (5.7.1)\n",
      "Requirement already satisfied: ipython>=4.0.0 in c:\\users\\lenovo\\anaconda3\\lib\\site-packages (from ipywidgets>=7.0.0->swifter) (8.10.0)\n",
      "Requirement already satisfied: widgetsnbextension~=3.5.0 in c:\\users\\lenovo\\anaconda3\\lib\\site-packages (from ipywidgets>=7.0.0->swifter) (3.5.2)\n",
      "Requirement already satisfied: pytz>=2020.1 in c:\\users\\lenovo\\anaconda3\\lib\\site-packages (from pandas>=1.0.0->swifter) (2022.7)\n",
      "Requirement already satisfied: python-dateutil>=2.8.1 in c:\\users\\lenovo\\anaconda3\\lib\\site-packages (from pandas>=1.0.0->swifter) (2.8.2)\n",
      "Requirement already satisfied: colorama in c:\\users\\lenovo\\anaconda3\\lib\\site-packages (from tqdm>=4.33.0->swifter) (0.4.6)\n",
      "Requirement already satisfied: jupyter-client>=6.1.12 in c:\\users\\lenovo\\anaconda3\\lib\\site-packages (from ipykernel>=4.5.1->ipywidgets>=7.0.0->swifter) (7.3.4)\n",
      "Requirement already satisfied: matplotlib-inline>=0.1 in c:\\users\\lenovo\\anaconda3\\lib\\site-packages (from ipykernel>=4.5.1->ipywidgets>=7.0.0->swifter) (0.1.6)\n",
      "Requirement already satisfied: tornado>=6.1 in c:\\users\\lenovo\\anaconda3\\lib\\site-packages (from ipykernel>=4.5.1->ipywidgets>=7.0.0->swifter) (6.1)\n",
      "Requirement already satisfied: comm>=0.1.1 in c:\\users\\lenovo\\anaconda3\\lib\\site-packages (from ipykernel>=4.5.1->ipywidgets>=7.0.0->swifter) (0.1.2)\n",
      "Requirement already satisfied: debugpy>=1.0 in c:\\users\\lenovo\\anaconda3\\lib\\site-packages (from ipykernel>=4.5.1->ipywidgets>=7.0.0->swifter) (1.5.1)\n",
      "Requirement already satisfied: nest-asyncio in c:\\users\\lenovo\\anaconda3\\lib\\site-packages (from ipykernel>=4.5.1->ipywidgets>=7.0.0->swifter) (1.5.6)\n",
      "Requirement already satisfied: pyzmq>=17 in c:\\users\\lenovo\\anaconda3\\lib\\site-packages (from ipykernel>=4.5.1->ipywidgets>=7.0.0->swifter) (23.2.0)\n",
      "Requirement already satisfied: stack-data in c:\\users\\lenovo\\anaconda3\\lib\\site-packages (from ipython>=4.0.0->ipywidgets>=7.0.0->swifter) (0.2.0)\n",
      "Requirement already satisfied: pickleshare in c:\\users\\lenovo\\anaconda3\\lib\\site-packages (from ipython>=4.0.0->ipywidgets>=7.0.0->swifter) (0.7.5)\n",
      "Requirement already satisfied: decorator in c:\\users\\lenovo\\anaconda3\\lib\\site-packages (from ipython>=4.0.0->ipywidgets>=7.0.0->swifter) (5.1.1)\n",
      "Requirement already satisfied: jedi>=0.16 in c:\\users\\lenovo\\anaconda3\\lib\\site-packages (from ipython>=4.0.0->ipywidgets>=7.0.0->swifter) (0.18.1)\n",
      "Requirement already satisfied: pygments>=2.4.0 in c:\\users\\lenovo\\anaconda3\\lib\\site-packages (from ipython>=4.0.0->ipywidgets>=7.0.0->swifter) (2.11.2)\n",
      "Requirement already satisfied: prompt-toolkit<3.1.0,>=3.0.30 in c:\\users\\lenovo\\anaconda3\\lib\\site-packages (from ipython>=4.0.0->ipywidgets>=7.0.0->swifter) (3.0.36)\n",
      "Requirement already satisfied: backcall in c:\\users\\lenovo\\anaconda3\\lib\\site-packages (from ipython>=4.0.0->ipywidgets>=7.0.0->swifter) (0.2.0)\n",
      "Requirement already satisfied: jupyter-core in c:\\users\\lenovo\\anaconda3\\lib\\site-packages (from nbformat>=4.2.0->ipywidgets>=7.0.0->swifter) (5.2.0)\n",
      "Requirement already satisfied: fastjsonschema in c:\\users\\lenovo\\anaconda3\\lib\\site-packages (from nbformat>=4.2.0->ipywidgets>=7.0.0->swifter) (2.16.2)\n",
      "Requirement already satisfied: jsonschema>=2.6 in c:\\users\\lenovo\\anaconda3\\lib\\site-packages (from nbformat>=4.2.0->ipywidgets>=7.0.0->swifter) (4.17.3)\n",
      "Requirement already satisfied: locket in c:\\users\\lenovo\\anaconda3\\lib\\site-packages (from partd>=0.3.10->dask[dataframe]>=2.10.0->swifter) (1.0.0)\n",
      "Requirement already satisfied: notebook>=4.4.1 in c:\\users\\lenovo\\anaconda3\\lib\\site-packages (from widgetsnbextension~=3.5.0->ipywidgets>=7.0.0->swifter) (6.5.2)\n",
      "Requirement already satisfied: attrs>=17.4.0 in c:\\users\\lenovo\\anaconda3\\lib\\site-packages (from jsonschema>=2.6->nbformat>=4.2.0->ipywidgets>=7.0.0->swifter) (22.1.0)\n",
      "Requirement already satisfied: pyrsistent!=0.17.0,!=0.17.1,!=0.17.2,>=0.14.0 in c:\\users\\lenovo\\anaconda3\\lib\\site-packages (from jsonschema>=2.6->nbformat>=4.2.0->ipywidgets>=7.0.0->swifter) (0.18.0)\n",
      "Requirement already satisfied: entrypoints in c:\\users\\lenovo\\anaconda3\\lib\\site-packages (from jupyter-client>=6.1.12->ipykernel>=4.5.1->ipywidgets>=7.0.0->swifter) (0.4)\n",
      "Requirement already satisfied: platformdirs>=2.5 in c:\\users\\lenovo\\anaconda3\\lib\\site-packages (from jupyter-core->nbformat>=4.2.0->ipywidgets>=7.0.0->swifter) (2.5.2)\n",
      "Requirement already satisfied: pywin32>=1.0 in c:\\users\\lenovo\\anaconda3\\lib\\site-packages (from jupyter-core->nbformat>=4.2.0->ipywidgets>=7.0.0->swifter) (305.1)\n",
      "Requirement already satisfied: nbclassic>=0.4.7 in c:\\users\\lenovo\\anaconda3\\lib\\site-packages (from notebook>=4.4.1->widgetsnbextension~=3.5.0->ipywidgets>=7.0.0->swifter) (0.5.2)\n",
      "Requirement already satisfied: nbconvert>=5 in c:\\users\\lenovo\\anaconda3\\lib\\site-packages (from notebook>=4.4.1->widgetsnbextension~=3.5.0->ipywidgets>=7.0.0->swifter) (6.5.4)\n",
      "Requirement already satisfied: prometheus-client in c:\\users\\lenovo\\anaconda3\\lib\\site-packages (from notebook>=4.4.1->widgetsnbextension~=3.5.0->ipywidgets>=7.0.0->swifter) (0.14.1)\n",
      "Requirement already satisfied: jinja2 in c:\\users\\lenovo\\anaconda3\\lib\\site-packages (from notebook>=4.4.1->widgetsnbextension~=3.5.0->ipywidgets>=7.0.0->swifter) (3.1.2)\n",
      "Requirement already satisfied: Send2Trash>=1.8.0 in c:\\users\\lenovo\\anaconda3\\lib\\site-packages (from notebook>=4.4.1->widgetsnbextension~=3.5.0->ipywidgets>=7.0.0->swifter) (1.8.0)\n",
      "Requirement already satisfied: argon2-cffi in c:\\users\\lenovo\\anaconda3\\lib\\site-packages (from notebook>=4.4.1->widgetsnbextension~=3.5.0->ipywidgets>=7.0.0->swifter) (21.3.0)\n",
      "Requirement already satisfied: terminado>=0.8.3 in c:\\users\\lenovo\\anaconda3\\lib\\site-packages (from notebook>=4.4.1->widgetsnbextension~=3.5.0->ipywidgets>=7.0.0->swifter) (0.17.1)\n",
      "Requirement already satisfied: wcwidth in c:\\users\\lenovo\\anaconda3\\lib\\site-packages (from prompt-toolkit<3.1.0,>=3.0.30->ipython>=4.0.0->ipywidgets>=7.0.0->swifter) (0.2.5)\n",
      "Requirement already satisfied: asttokens in c:\\users\\lenovo\\anaconda3\\lib\\site-packages (from stack-data->ipython>=4.0.0->ipywidgets>=7.0.0->swifter) (2.0.5)\n",
      "Requirement already satisfied: pure-eval in c:\\users\\lenovo\\anaconda3\\lib\\site-packages (from stack-data->ipython>=4.0.0->ipywidgets>=7.0.0->swifter) (0.2.2)\n",
      "Requirement already satisfied: executing in c:\\users\\lenovo\\anaconda3\\lib\\site-packages (from stack-data->ipython>=4.0.0->ipywidgets>=7.0.0->swifter) (0.8.3)\n",
      "Requirement already satisfied: notebook-shim>=0.1.0 in c:\\users\\lenovo\\anaconda3\\lib\\site-packages (from nbclassic>=0.4.7->notebook>=4.4.1->widgetsnbextension~=3.5.0->ipywidgets>=7.0.0->swifter) (0.2.2)\n",
      "Requirement already satisfied: jupyter-server>=1.8 in c:\\users\\lenovo\\anaconda3\\lib\\site-packages (from nbclassic>=0.4.7->notebook>=4.4.1->widgetsnbextension~=3.5.0->ipywidgets>=7.0.0->swifter) (1.23.4)\n",
      "Requirement already satisfied: lxml in c:\\users\\lenovo\\anaconda3\\lib\\site-packages (from nbconvert>=5->notebook>=4.4.1->widgetsnbextension~=3.5.0->ipywidgets>=7.0.0->swifter) (4.9.1)\n",
      "Requirement already satisfied: defusedxml in c:\\users\\lenovo\\anaconda3\\lib\\site-packages (from nbconvert>=5->notebook>=4.4.1->widgetsnbextension~=3.5.0->ipywidgets>=7.0.0->swifter) (0.7.1)\n",
      "Requirement already satisfied: nbclient>=0.5.0 in c:\\users\\lenovo\\anaconda3\\lib\\site-packages (from nbconvert>=5->notebook>=4.4.1->widgetsnbextension~=3.5.0->ipywidgets>=7.0.0->swifter) (0.5.13)\n",
      "Requirement already satisfied: mistune<2,>=0.8.1 in c:\\users\\lenovo\\anaconda3\\lib\\site-packages (from nbconvert>=5->notebook>=4.4.1->widgetsnbextension~=3.5.0->ipywidgets>=7.0.0->swifter) (0.8.4)\n",
      "Requirement already satisfied: tinycss2 in c:\\users\\lenovo\\anaconda3\\lib\\site-packages (from nbconvert>=5->notebook>=4.4.1->widgetsnbextension~=3.5.0->ipywidgets>=7.0.0->swifter) (1.2.1)\n",
      "Requirement already satisfied: beautifulsoup4 in c:\\users\\lenovo\\anaconda3\\lib\\site-packages (from nbconvert>=5->notebook>=4.4.1->widgetsnbextension~=3.5.0->ipywidgets>=7.0.0->swifter) (4.11.1)\n",
      "Requirement already satisfied: pandocfilters>=1.4.1 in c:\\users\\lenovo\\anaconda3\\lib\\site-packages (from nbconvert>=5->notebook>=4.4.1->widgetsnbextension~=3.5.0->ipywidgets>=7.0.0->swifter) (1.5.0)\n",
      "Requirement already satisfied: MarkupSafe>=2.0 in c:\\users\\lenovo\\anaconda3\\lib\\site-packages (from nbconvert>=5->notebook>=4.4.1->widgetsnbextension~=3.5.0->ipywidgets>=7.0.0->swifter) (2.1.1)\n",
      "Requirement already satisfied: jupyterlab-pygments in c:\\users\\lenovo\\anaconda3\\lib\\site-packages (from nbconvert>=5->notebook>=4.4.1->widgetsnbextension~=3.5.0->ipywidgets>=7.0.0->swifter) (0.1.2)\n",
      "Requirement already satisfied: pywinpty>=1.1.0 in c:\\users\\lenovo\\anaconda3\\lib\\site-packages (from terminado>=0.8.3->notebook>=4.4.1->widgetsnbextension~=3.5.0->ipywidgets>=7.0.0->swifter) (2.0.10)\n",
      "Requirement already satisfied: argon2-cffi-bindings in c:\\users\\lenovo\\anaconda3\\lib\\site-packages (from argon2-cffi->notebook>=4.4.1->widgetsnbextension~=3.5.0->ipywidgets>=7.0.0->swifter) (21.2.0)\n",
      "Requirement already satisfied: anyio<4,>=3.1.0 in c:\\users\\lenovo\\anaconda3\\lib\\site-packages (from jupyter-server>=1.8->nbclassic>=0.4.7->notebook>=4.4.1->widgetsnbextension~=3.5.0->ipywidgets>=7.0.0->swifter) (3.5.0)\n",
      "Requirement already satisfied: websocket-client in c:\\users\\lenovo\\anaconda3\\lib\\site-packages (from jupyter-server>=1.8->nbclassic>=0.4.7->notebook>=4.4.1->widgetsnbextension~=3.5.0->ipywidgets>=7.0.0->swifter) (0.58.0)\n",
      "Requirement already satisfied: cffi>=1.0.1 in c:\\users\\lenovo\\anaconda3\\lib\\site-packages (from argon2-cffi-bindings->argon2-cffi->notebook>=4.4.1->widgetsnbextension~=3.5.0->ipywidgets>=7.0.0->swifter) (1.15.1)\n",
      "Requirement already satisfied: soupsieve>1.2 in c:\\users\\lenovo\\anaconda3\\lib\\site-packages (from beautifulsoup4->nbconvert>=5->notebook>=4.4.1->widgetsnbextension~=3.5.0->ipywidgets>=7.0.0->swifter) (2.3.2.post1)\n",
      "Requirement already satisfied: sniffio>=1.1 in c:\\users\\lenovo\\anaconda3\\lib\\site-packages (from anyio<4,>=3.1.0->jupyter-server>=1.8->nbclassic>=0.4.7->notebook>=4.4.1->widgetsnbextension~=3.5.0->ipywidgets>=7.0.0->swifter) (1.2.0)\n",
      "Requirement already satisfied: idna>=2.8 in c:\\users\\lenovo\\anaconda3\\lib\\site-packages (from anyio<4,>=3.1.0->jupyter-server>=1.8->nbclassic>=0.4.7->notebook>=4.4.1->widgetsnbextension~=3.5.0->ipywidgets>=7.0.0->swifter) (3.4)\n",
      "Requirement already satisfied: pycparser in c:\\users\\lenovo\\anaconda3\\lib\\site-packages (from cffi>=1.0.1->argon2-cffi-bindings->argon2-cffi->notebook>=4.4.1->widgetsnbextension~=3.5.0->ipywidgets>=7.0.0->swifter) (2.21)\n"
     ]
    },
    {
     "name": "stdout",
     "output_type": "stream",
     "text": [
      "Requirement already satisfied: scikit-learn in c:\\users\\lenovo\\anaconda3\\lib\\site-packages (1.3.0)\n",
      "Requirement already satisfied: threadpoolctl>=2.0.0 in c:\\users\\lenovo\\anaconda3\\lib\\site-packages (from scikit-learn) (2.2.0)\n",
      "Requirement already satisfied: numpy>=1.17.3 in c:\\users\\lenovo\\anaconda3\\lib\\site-packages (from scikit-learn) (1.23.5)\n",
      "Requirement already satisfied: scipy>=1.5.0 in c:\\users\\lenovo\\anaconda3\\lib\\site-packages (from scikit-learn) (1.10.0)\n",
      "Requirement already satisfied: joblib>=1.1.1 in c:\\users\\lenovo\\anaconda3\\lib\\site-packages (from scikit-learn) (1.1.1)\n"
     ]
    }
   ],
   "source": [
    "#Import library\n",
    "import pandas as pd\n",
    "import numpy as np\n",
    "import matplotlib.pyplot as plt\n",
    "import seaborn as sns\n",
    "import re\n",
    "import nltk\n",
    "import string\n",
    "import swifter\n",
    "import csv\n",
    "\n",
    "nltk.download('stopwords')\n",
    "nltk.download('punkt')\n",
    "nltk.download('wordnet')\n",
    "nltk.download('omw-1.4')\n",
    "\n",
    "!pip install Sastrawi\n",
    "!pip install swifter\n",
    "!pip install scikit-learn -U\n",
    "\n",
    "from Sastrawi.Stemmer.StemmerFactory import StemmerFactory\n",
    "from Sastrawi.StopWordRemover.StopWordRemoverFactory import StopWordRemoverFactory\n",
    "\n",
    "from sklearn.metrics import confusion_matrix\n",
    "from sklearn.naive_bayes import MultinomialNB\n",
    "from sklearn.model_selection import train_test_split\n",
    "from sklearn.feature_extraction.text import CountVectorizer\n",
    "from sklearn.feature_extraction.text import TfidfVectorizer\n",
    "from sklearn.feature_extraction.text import TfidfTransformer\n",
    "\n",
    "from wordcloud import WordCloud\n",
    "\n",
    "from sklearn.metrics import f1_score, confusion_matrix, accuracy_score, precision_score, recall_score\n",
    "from sklearn.metrics import classification_report\n",
    "\n",
    "from nltk.tokenize import word_tokenize\n",
    "# from nltk.corpus import wordnet\n",
    "from nltk.corpus import stopwords\n",
    "# from nltk.corpus import words\n",
    "\n",
    "from modulenorm.modNormalize import normalize\n",
    "from modulenorm.modTokenizing import tokenize"
   ]
  },
  {
   "cell_type": "code",
   "execution_count": 2,
   "id": "ef7e3fe6",
   "metadata": {},
   "outputs": [],
   "source": [
    "# Import data\n",
    "\n",
    "df = pd.read_csv('Form Kuliah Hybrid (Responses) - Form Responses 1.csv')"
   ]
  },
  {
   "cell_type": "code",
   "execution_count": 3,
   "id": "77509dc5",
   "metadata": {},
   "outputs": [
    {
     "data": {
      "text/html": [
       "<div>\n",
       "<style scoped>\n",
       "    .dataframe tbody tr th:only-of-type {\n",
       "        vertical-align: middle;\n",
       "    }\n",
       "\n",
       "    .dataframe tbody tr th {\n",
       "        vertical-align: top;\n",
       "    }\n",
       "\n",
       "    .dataframe thead th {\n",
       "        text-align: right;\n",
       "    }\n",
       "</style>\n",
       "<table border=\"1\" class=\"dataframe\">\n",
       "  <thead>\n",
       "    <tr style=\"text-align: right;\">\n",
       "      <th></th>\n",
       "      <th>Bagaimana pendapat anda setelah menjalani perkuliahan hybrid di kampus UMN?</th>\n",
       "      <th>Label</th>\n",
       "    </tr>\n",
       "  </thead>\n",
       "  <tbody>\n",
       "    <tr>\n",
       "      <th>0</th>\n",
       "      <td>Cukup namun terkadang tidak mengerti materinya</td>\n",
       "      <td>Netral</td>\n",
       "    </tr>\n",
       "    <tr>\n",
       "      <th>1</th>\n",
       "      <td>Cukup baik karena kuliah dilakukan secara onli...</td>\n",
       "      <td>Positif</td>\n",
       "    </tr>\n",
       "    <tr>\n",
       "      <th>2</th>\n",
       "      <td>Sangat tidak fokus</td>\n",
       "      <td>Negatif</td>\n",
       "    </tr>\n",
       "    <tr>\n",
       "      <th>3</th>\n",
       "      <td>Cukup baik, hanya saja terkadang kurang fokus ...</td>\n",
       "      <td>Negatif</td>\n",
       "    </tr>\n",
       "    <tr>\n",
       "      <th>4</th>\n",
       "      <td>Tidak pernah hybrid.</td>\n",
       "      <td>Netral</td>\n",
       "    </tr>\n",
       "  </tbody>\n",
       "</table>\n",
       "</div>"
      ],
      "text/plain": [
       "  Bagaimana pendapat anda setelah menjalani perkuliahan hybrid di kampus UMN?  \\\n",
       "0     Cukup namun terkadang tidak mengerti materinya                            \n",
       "1  Cukup baik karena kuliah dilakukan secara onli...                            \n",
       "2                                 Sangat tidak fokus                            \n",
       "3  Cukup baik, hanya saja terkadang kurang fokus ...                            \n",
       "4                               Tidak pernah hybrid.                            \n",
       "\n",
       "     Label  \n",
       "0   Netral  \n",
       "1  Positif  \n",
       "2  Negatif  \n",
       "3  Negatif  \n",
       "4   Netral  "
      ]
     },
     "execution_count": 3,
     "metadata": {},
     "output_type": "execute_result"
    }
   ],
   "source": [
    "# Drop kolom yang tidak dipakai\n",
    "\n",
    "df = df.drop(columns=['Timestamp',\n",
    "                     'Email Address',\n",
    "                     'Nama Lengkap',\n",
    "                     'Email',\n",
    "                     'Apakah anda tahu apa itu kuliah hybrid?',\n",
    "                     'Jika \"Ya\", apa yang anda ketahui tentang atau kuliah hybrid? Jika \"Tidak\" isi dengan tanda \".\"',\n",
    "                     'Apakah anda pernah berkuliah secara hybrid?',\n",
    "                     'Tipe hybrid apa yang anda pilih selama berkuliah?',\n",
    "                     'Apa alasan anda memilih kuliah hybrid offline?',\n",
    "                     'Apa alasan anda memilih kuliah hybrid online?'])\n",
    "\n",
    "df.head()"
   ]
  },
  {
   "cell_type": "code",
   "execution_count": 4,
   "id": "9d7a6407",
   "metadata": {},
   "outputs": [
    {
     "data": {
      "text/plain": [
       "(86, 2)"
      ]
     },
     "execution_count": 4,
     "metadata": {},
     "output_type": "execute_result"
    }
   ],
   "source": [
    "df.shape"
   ]
  },
  {
   "cell_type": "code",
   "execution_count": 5,
   "id": "a18127c6",
   "metadata": {},
   "outputs": [
    {
     "data": {
      "text/plain": [
       "Bagaimana pendapat anda setelah menjalani perkuliahan hybrid di kampus UMN?    0\n",
       "Label                                                                          0\n",
       "dtype: int64"
      ]
     },
     "execution_count": 5,
     "metadata": {},
     "output_type": "execute_result"
    }
   ],
   "source": [
    "df.isnull().sum()"
   ]
  },
  {
   "cell_type": "markdown",
   "id": "da7969b2",
   "metadata": {},
   "source": [
    "## Text Preprocessing "
   ]
  },
  {
   "cell_type": "code",
   "execution_count": 6,
   "id": "45188215",
   "metadata": {},
   "outputs": [],
   "source": [
    "# Case Folding\n",
    "\n",
    "def lower_cases(text):\n",
    "    return text.lower()\n",
    "\n",
    "df[\"lower_case\"] = df[\"Bagaimana pendapat anda setelah menjalani perkuliahan hybrid di kampus UMN?\"].apply(lower_cases)"
   ]
  },
  {
   "cell_type": "markdown",
   "id": "f3d1fed4",
   "metadata": {},
   "source": [
    "## Cleaning Text"
   ]
  },
  {
   "cell_type": "code",
   "execution_count": 7,
   "id": "fd1226bd",
   "metadata": {},
   "outputs": [],
   "source": [
    "# Remove punctuation\n",
    "\n",
    "def remove_punctuation(text):\n",
    "    translator = str.maketrans('', '', string.punctuation)\n",
    "    return text.translate(translator)\n",
    "\n",
    "df[\"remove_punct\"] = df[\"lower_case\"].apply(remove_punctuation)"
   ]
  },
  {
   "cell_type": "code",
   "execution_count": 8,
   "id": "7784601a",
   "metadata": {},
   "outputs": [],
   "source": [
    "# Remove numbers\n",
    "\n",
    "def remove_numbers(text):\n",
    "    result = re.sub(r'\\d+', '', text)\n",
    "    return result\n",
    "\n",
    "df[\"remove_num\"] = df[\"remove_punct\"].apply(remove_numbers)"
   ]
  },
  {
   "cell_type": "code",
   "execution_count": 9,
   "id": "fcee4981",
   "metadata": {},
   "outputs": [],
   "source": [
    "# Remove emojis\n",
    "def remove_emojis(data):\n",
    "    emoj = re.compile(\"[\"\n",
    "        u\"\\U0001F600-\\U0001F64F\"  # emoticons\n",
    "        u\"\\U0001F300-\\U0001F5FF\"  # symbols & pictographs\n",
    "        u\"\\U0001F680-\\U0001F6FF\"  # transport & map symbols\n",
    "        u\"\\U0001F1E0-\\U0001F1FF\"  # flags (iOS)\n",
    "        u\"\\U00002500-\\U00002BEF\"  # chinese char\n",
    "        u\"\\U00002702-\\U000027B0\"\n",
    "        u\"\\U00002702-\\U000027B0\"\n",
    "        u\"\\U000024C2-\\U0001F251\"\n",
    "        u\"\\U0001f926-\\U0001f937\"\n",
    "        u\"\\U00010000-\\U0010ffff\"\n",
    "        u\"\\u2640-\\u2642\" \n",
    "        u\"\\u2600-\\u2B55\"\n",
    "        u\"\\u200d\"\n",
    "        u\"\\u23cf\"\n",
    "        u\"\\u23e9\"\n",
    "        u\"\\u231a\"\n",
    "        u\"\\ufe0f\"  # dingbats\n",
    "        u\"\\u3030\"\n",
    "                      \"]+\", re.UNICODE)\n",
    "    return re.sub(emoj, '', data)\n",
    "\n",
    "df[\"remove_emoji\"] = df[\"remove_num\"].apply(remove_emojis)"
   ]
  },
  {
   "cell_type": "code",
   "execution_count": 10,
   "id": "2bc8b1db",
   "metadata": {},
   "outputs": [],
   "source": [
    "# Remove whitespace from text\n",
    "\n",
    "def remove_whitespace(text):\n",
    "    return  \" \".join(text.split())\n",
    "\n",
    "df[\"clean_review\"] = df[\"remove_emoji\"].apply(remove_whitespace)"
   ]
  },
  {
   "cell_type": "markdown",
   "id": "371601fe",
   "metadata": {},
   "source": [
    "## Tokenization"
   ]
  },
  {
   "cell_type": "code",
   "execution_count": 11,
   "id": "fb5aeb85",
   "metadata": {},
   "outputs": [],
   "source": [
    "#Tokenization\n",
    "\n",
    "def tokenization(text):\n",
    "    tokens = word_tokenize(text)\n",
    "    return tokens\n",
    "\n",
    "df[\"review_token\"] = df[\"clean_review\"].apply(tokenization)"
   ]
  },
  {
   "cell_type": "markdown",
   "id": "c9922ad2",
   "metadata": {},
   "source": [
    "## Spell Check"
   ]
  },
  {
   "cell_type": "code",
   "execution_count": 12,
   "id": "a6efba66",
   "metadata": {},
   "outputs": [],
   "source": [
    "# Spell Check\n",
    "\n",
    "spell = pd.read_csv(open('spell_check.csv'))\n",
    "\n",
    "spell_dict = {}\n",
    "\n",
    "for index, row in spell.iterrows():\n",
    "    if row[0] not in spell_dict:\n",
    "        spell_dict[row[0]] = row[1]\n",
    "        \n",
    "def normalized_term(document):\n",
    "    return [spell_dict[term] if term in spell_dict else term for term in document]\n",
    "\n",
    "df[\"clean_text\"] = df[\"review_token\"].apply(normalized_term)"
   ]
  },
  {
   "cell_type": "markdown",
   "id": "c11a5921",
   "metadata": {},
   "source": [
    "## Stopword Removal"
   ]
  },
  {
   "cell_type": "code",
   "execution_count": 13,
   "id": "501f49b1",
   "metadata": {},
   "outputs": [],
   "source": [
    "# Stopwords\n",
    "\n",
    "list_stopwords = stopwords.words('indonesian')\n",
    "\n",
    "def stopwords_removal(words):\n",
    "    return [word for word in words if word not in list_stopwords]\n",
    "\n",
    "df[\"review_stopword\"] = df[\"clean_text\"].apply(stopwords_removal)"
   ]
  },
  {
   "cell_type": "markdown",
   "id": "2b5846f6",
   "metadata": {},
   "source": [
    "## Stemming"
   ]
  },
  {
   "cell_type": "code",
   "execution_count": 14,
   "id": "4a90adf4",
   "metadata": {
    "scrolled": true
   },
   "outputs": [
    {
     "name": "stdout",
     "output_type": "stream",
     "text": [
      "235\n",
      "--------------------------\n",
      "terkadang : terkadang\n",
      "mengerti : erti\n",
      "materinya : materi\n",
      "kuliah : kuliah\n",
      "online : online\n",
      "offline : offline\n",
      "fokus : fokus\n",
      "menjalani : jalan\n",
      "kelas : kelas\n",
      "hybrid : hybrid\n",
      "suka : suka\n",
      "perkuliahan : kuliah\n",
      "biaya : biaya\n",
      "dibayarkan : bayar\n",
      "mahal : mahal\n",
      "manfaat : manfaat\n",
      "diperoleh : oleh\n",
      "sistemnya : sistem\n",
      "serasa : serasa\n",
      "fleksibel : fleksibel\n",
      "jadwal : jadwal\n",
      "ribet : ribet\n",
      "bolak : bolak\n",
      "kampus : kampus\n",
      "efektif : efektif\n",
      "teman : teman\n",
      "mahasiswa : mahasiswa\n",
      "hadir : hadir\n",
      "kekampus : kampus\n",
      "sakit : sakit\n",
      "izin : izin\n",
      "dll : dll\n",
      "mengikuti : ikut\n",
      "pembelajaran : ajar\n",
      "bagusbagus : bagusbagus\n",
      "si : si\n",
      "disatu : satu\n",
      "sisi : sisi\n",
      "kendala : kendala\n",
      "koneksi : koneksi\n",
      "oke : oke\n",
      "rumahbiasanya : rumahbiasanya\n",
      "sepenuhnya : sepenuh\n",
      "materi : materi\n",
      "berkumpul : kumpul\n",
      "menyenangkan : senang\n",
      "bosan : bosan\n",
      "monoton : monoton\n",
      "enak : enak\n",
      "direkam : rekam\n",
      "mengurangi : kurang\n",
      "produktivitas : produktivitas\n",
      "berbeda : beda\n",
      "tingkat : tingkat\n",
      "konsentrasi : konsentrasi\n",
      "ngantukngantuk : ngantukngantuk\n",
      "memperburuk : buruk\n",
      "buruk : buruk\n",
      "berbedabeda : berbedabeda\n",
      "langsung : langsung\n",
      "berinteraksi : interaksi\n",
      "dosen : dosen\n",
      "kamera : kamera\n",
      "papan : papan\n",
      "tulis : tulis\n",
      "seru : seru\n",
      "bertatap : tatap\n",
      "muka : muka\n",
      "nyantai : nyantai\n",
      "full : full\n",
      "melelahkan : lelah\n",
      "membantu : bantu\n",
      "tinggal : tinggal\n",
      "pergi : pergi\n",
      "menghemat : hemat\n",
      "keuangan : uang\n",
      "bertemu : temu\n",
      "berjalan : jalan\n",
      "lancar : lancar\n",
      "mengeluarkan : keluar\n",
      "tenaga : tenaga\n",
      "pelaksanaan : laksana\n",
      "tatap : tatap\n",
      "membedakan : beda\n",
      "interaksi : interaksi\n",
      "memuaskan : muas\n",
      "kegunaan : guna\n",
      "opsi : opsi\n",
      "kesempatan : sempat\n",
      "memiliki : milik\n",
      "kegiatan : giat\n",
      "diluar : luar\n",
      "piranti : piranti\n",
      "memadai : pada\n",
      "efisien : efisien\n",
      "keuntungan : untung\n",
      "fleksibilitas : fleksibilitas\n",
      "belajar : ajar\n",
      "membangun : bangun\n",
      "hubungan : hubung\n",
      "sosial : sosial\n",
      "sekelas : kelas\n",
      "pertemuan : temu\n",
      "ketersediaan : sedia\n",
      "sumber : sumber\n",
      "daya : daya\n",
      "lengkap : lengkap\n",
      "bervariasi : variasi\n",
      "akses : akses\n",
      "platform : platform\n",
      "tantangan : tantang\n",
      "membutuhkan : butuh\n",
      "disiplin : disiplin\n",
      "pengaturan : atur\n",
      "ketat : ketat\n",
      "menjaga : jaga\n",
      "keseimbangan : imbang\n",
      "tambahan : tambah\n",
      "perjalanan : jalan\n",
      "internet : internet\n",
      "stabil : stabil\n",
      "kesulitan : sulit\n",
      "terbatas : batas\n",
      "mendingan : mending\n",
      "mengajar : ajar\n",
      "optimal : optimal\n",
      "perbedaannya : beda\n",
      "umn : umn\n",
      "dibandingkan : banding\n",
      "merepotkan : repot\n",
      "anak : anak\n",
      "rantau : rantau\n",
      "gs : gs\n",
      "santai : santai\n",
      "nyaman : nyaman\n",
      "mata : mata\n",
      "semester : semester\n",
      "hemat : hemat\n",
      "fasilitas : fasilitas\n",
      "mic : mic\n",
      "asinkron : asinkron\n",
      "zoom : zoom\n",
      "pokok : pokok\n",
      "relatif : relatif\n",
      "mudah : mudah\n",
      "berlakukan : laku\n",
      "kali : kali\n",
      "onsitenya : onsitenya\n",
      "utama : utama\n",
      "onsite : onsite\n",
      "pribadi : pribadi\n",
      "bagus : bagus\n",
      "pengenya : kenya\n",
      "meeting : meeting\n",
      "dosennya : dosen\n",
      "setuju : tuju\n",
      "alasanalasan : alasanalasan\n",
      "sebutkan : sebut\n",
      "ditunggu : tunggu\n",
      "gopay : gopay\n",
      "knya : knya\n",
      "kak : kak\n",
      "thnks : thnks\n",
      "sulit : sulit\n",
      "beradaptasi : adaptasi\n",
      "paham : paham\n",
      "sistem : sistem\n",
      "memanage : memanage\n",
      "jenis : jenis\n",
      "daring : daring\n",
      "luring : luring\n",
      "komputer : komputer\n",
      "presentasi : presentasi\n",
      "via : via\n",
      "kadang : kadang\n",
      "gangguan : ganggu\n",
      "diawasi : awas\n",
      "matkul : matkul\n",
      "menarik : tarik\n",
      "dimengerti : erti\n",
      "bosannya : bosan\n",
      "diitu : itu\n",
      "keseringan : sering\n",
      "masuk : masuk\n",
      "otak : otak\n",
      "meninggalkan : tinggal\n",
      "contohnya : contoh\n",
      "doang : doang\n",
      "multitask : multitask\n",
      "diikuti : ikut\n",
      "mengatur : atur\n",
      "kewajiban : wajib\n",
      "mengoperasikan : operasi\n",
      "perangkat : perangkat\n",
      "mendukung : dukung\n",
      "tertunda : tunda\n",
      "berkurang : kurang\n",
      "pendapat : dapat\n",
      "pandemi : pandemi\n",
      "siswa : siswa\n",
      "sejujurnya : jujur\n",
      "bimbingan : bimbing\n",
      "magang : magang\n",
      "skripsi : skripsi\n",
      "ditingkatkan : tingkat\n",
      "spesial : spesial\n",
      "plus : plus\n",
      "minusnya : minus\n",
      "tersendiri : sendiri\n",
      "jalani : jalan\n",
      "covid : covid\n",
      "kemarin : kemarin\n",
      "susah : susah\n",
      "gampang : gampang\n",
      "terdistraksi : terdistraksi\n",
      "kondisi : kondisi\n",
      "fasilitasnya : fasilitas\n",
      "terganggu : ganggu\n",
      "kerja : kerja\n",
      "kelompok : kelompok\n",
      "anggota : anggota\n",
      "terhambat : hambat\n",
      "keterbatasan : batas\n",
      "teknologi : teknologi\n",
      "melanjutkan : lanjut\n",
      "” : \n",
      "nyontek : nyontek\n",
      "kakak : kakak\n",
      "senang : senang\n",
      "puas : puas\n",
      "hidup : hidup\n",
      "dilaksanakan : laksana\n",
      "minggu : minggu\n",
      "apaapa : apaapa\n",
      "kebanyakan : banyak\n",
      "{'terkadang': 'terkadang', 'mengerti': 'erti', 'materinya': 'materi', 'kuliah': 'kuliah', 'online': 'online', 'offline': 'offline', 'fokus': 'fokus', 'menjalani': 'jalan', 'kelas': 'kelas', 'hybrid': 'hybrid', 'suka': 'suka', 'perkuliahan': 'kuliah', 'biaya': 'biaya', 'dibayarkan': 'bayar', 'mahal': 'mahal', 'manfaat': 'manfaat', 'diperoleh': 'oleh', 'sistemnya': 'sistem', 'serasa': 'serasa', 'fleksibel': 'fleksibel', 'jadwal': 'jadwal', 'ribet': 'ribet', 'bolak': 'bolak', 'kampus': 'kampus', 'efektif': 'efektif', 'teman': 'teman', 'mahasiswa': 'mahasiswa', 'hadir': 'hadir', 'kekampus': 'kampus', 'sakit': 'sakit', 'izin': 'izin', 'dll': 'dll', 'mengikuti': 'ikut', 'pembelajaran': 'ajar', 'bagusbagus': 'bagusbagus', 'si': 'si', 'disatu': 'satu', 'sisi': 'sisi', 'kendala': 'kendala', 'koneksi': 'koneksi', 'oke': 'oke', 'rumahbiasanya': 'rumahbiasanya', 'sepenuhnya': 'sepenuh', 'materi': 'materi', 'berkumpul': 'kumpul', 'menyenangkan': 'senang', 'bosan': 'bosan', 'monoton': 'monoton', 'enak': 'enak', 'direkam': 'rekam', 'mengurangi': 'kurang', 'produktivitas': 'produktivitas', 'berbeda': 'beda', 'tingkat': 'tingkat', 'konsentrasi': 'konsentrasi', 'ngantukngantuk': 'ngantukngantuk', 'memperburuk': 'buruk', 'buruk': 'buruk', 'berbedabeda': 'berbedabeda', 'langsung': 'langsung', 'berinteraksi': 'interaksi', 'dosen': 'dosen', 'kamera': 'kamera', 'papan': 'papan', 'tulis': 'tulis', 'seru': 'seru', 'bertatap': 'tatap', 'muka': 'muka', 'nyantai': 'nyantai', 'full': 'full', 'melelahkan': 'lelah', 'membantu': 'bantu', 'tinggal': 'tinggal', 'pergi': 'pergi', 'menghemat': 'hemat', 'keuangan': 'uang', 'bertemu': 'temu', 'berjalan': 'jalan', 'lancar': 'lancar', 'mengeluarkan': 'keluar', 'tenaga': 'tenaga', 'pelaksanaan': 'laksana', 'tatap': 'tatap', 'membedakan': 'beda', 'interaksi': 'interaksi', 'memuaskan': 'muas', 'kegunaan': 'guna', 'opsi': 'opsi', 'kesempatan': 'sempat', 'memiliki': 'milik', 'kegiatan': 'giat', 'diluar': 'luar', 'piranti': 'piranti', 'memadai': 'pada', 'efisien': 'efisien', 'keuntungan': 'untung', 'fleksibilitas': 'fleksibilitas', 'belajar': 'ajar', 'membangun': 'bangun', 'hubungan': 'hubung', 'sosial': 'sosial', 'sekelas': 'kelas', 'pertemuan': 'temu', 'ketersediaan': 'sedia', 'sumber': 'sumber', 'daya': 'daya', 'lengkap': 'lengkap', 'bervariasi': 'variasi', 'akses': 'akses', 'platform': 'platform', 'tantangan': 'tantang', 'membutuhkan': 'butuh', 'disiplin': 'disiplin', 'pengaturan': 'atur', 'ketat': 'ketat', 'menjaga': 'jaga', 'keseimbangan': 'imbang', 'tambahan': 'tambah', 'perjalanan': 'jalan', 'internet': 'internet', 'stabil': 'stabil', 'kesulitan': 'sulit', 'terbatas': 'batas', 'mendingan': 'mending', 'mengajar': 'ajar', 'optimal': 'optimal', 'perbedaannya': 'beda', 'umn': 'umn', 'dibandingkan': 'banding', 'merepotkan': 'repot', 'anak': 'anak', 'rantau': 'rantau', 'gs': 'gs', 'santai': 'santai', 'nyaman': 'nyaman', 'mata': 'mata', 'semester': 'semester', 'hemat': 'hemat', 'fasilitas': 'fasilitas', 'mic': 'mic', 'asinkron': 'asinkron', 'zoom': 'zoom', 'pokok': 'pokok', 'relatif': 'relatif', 'mudah': 'mudah', 'berlakukan': 'laku', 'kali': 'kali', 'onsitenya': 'onsitenya', 'utama': 'utama', 'onsite': 'onsite', 'pribadi': 'pribadi', 'bagus': 'bagus', 'pengenya': 'kenya', 'meeting': 'meeting', 'dosennya': 'dosen', 'setuju': 'tuju', 'alasanalasan': 'alasanalasan', 'sebutkan': 'sebut', 'ditunggu': 'tunggu', 'gopay': 'gopay', 'knya': 'knya', 'kak': 'kak', 'thnks': 'thnks', 'sulit': 'sulit', 'beradaptasi': 'adaptasi', 'paham': 'paham', 'sistem': 'sistem', 'memanage': 'memanage', 'jenis': 'jenis', 'daring': 'daring', 'luring': 'luring', 'komputer': 'komputer', 'presentasi': 'presentasi', 'via': 'via', 'kadang': 'kadang', 'gangguan': 'ganggu', 'diawasi': 'awas', 'matkul': 'matkul', 'menarik': 'tarik', 'dimengerti': 'erti', 'bosannya': 'bosan', 'diitu': 'itu', 'keseringan': 'sering', 'masuk': 'masuk', 'otak': 'otak', 'meninggalkan': 'tinggal', 'contohnya': 'contoh', 'doang': 'doang', 'multitask': 'multitask', 'diikuti': 'ikut', 'mengatur': 'atur', 'kewajiban': 'wajib', 'mengoperasikan': 'operasi', 'perangkat': 'perangkat', 'mendukung': 'dukung', 'tertunda': 'tunda', 'berkurang': 'kurang', 'pendapat': 'dapat', 'pandemi': 'pandemi', 'siswa': 'siswa', 'sejujurnya': 'jujur', 'bimbingan': 'bimbing', 'magang': 'magang', 'skripsi': 'skripsi', 'ditingkatkan': 'tingkat', 'spesial': 'spesial', 'plus': 'plus', 'minusnya': 'minus', 'tersendiri': 'sendiri', 'jalani': 'jalan', 'covid': 'covid', 'kemarin': 'kemarin', 'susah': 'susah', 'gampang': 'gampang', 'terdistraksi': 'terdistraksi', 'kondisi': 'kondisi', 'fasilitasnya': 'fasilitas', 'terganggu': 'ganggu', 'kerja': 'kerja', 'kelompok': 'kelompok', 'anggota': 'anggota', 'terhambat': 'hambat', 'keterbatasan': 'batas', 'teknologi': 'teknologi', 'melanjutkan': 'lanjut', '”': '', 'nyontek': 'nyontek', 'kakak': 'kakak', 'senang': 'senang', 'puas': 'puas', 'hidup': 'hidup', 'dilaksanakan': 'laksana', 'minggu': 'minggu', 'apaapa': 'apaapa', 'kebanyakan': 'banyak'}\n",
      "--------------------------\n"
     ]
    },
    {
     "data": {
      "application/vnd.jupyter.widget-view+json": {
       "model_id": "a057c2e60733428fa17a8c36799e4b18",
       "version_major": 2,
       "version_minor": 0
      },
      "text/plain": [
       "Pandas Apply:   0%|          | 0/86 [00:00<?, ?it/s]"
      ]
     },
     "metadata": {},
     "output_type": "display_data"
    }
   ],
   "source": [
    "# Stemming\n",
    "\n",
    "factory = StemmerFactory()\n",
    "stemmer = factory.create_stemmer()\n",
    "\n",
    "def stemmed_wrapper(term):\n",
    "    return stemmer.stem(term)\n",
    "\n",
    "term_dict = {}\n",
    "\n",
    "for document in df[\"review_stopword\"]:\n",
    "    for term in document:\n",
    "        if term not in term_dict:\n",
    "            term_dict[term] = ' '\n",
    "            \n",
    "print(len(term_dict))\n",
    "print(\"--------------------------\")\n",
    "            \n",
    "for term in term_dict:\n",
    "    term_dict[term] = stemmed_wrapper(term)\n",
    "    print(term,\":\",term_dict[term])\n",
    "    \n",
    "print(term_dict)\n",
    "print(\"--------------------------\")\n",
    "    \n",
    "def get_stemmed_term(document):\n",
    "    return [term_dict[term] for term in document]\n",
    "\n",
    "df[\"review_stem\"] = df[\"review_stopword\"].swifter.apply(get_stemmed_term)"
   ]
  },
  {
   "cell_type": "markdown",
   "id": "ad0a4bb0",
   "metadata": {},
   "source": [
    "## Pembobotan TF-IDF"
   ]
  },
  {
   "cell_type": "code",
   "execution_count": 15,
   "id": "ad407406",
   "metadata": {},
   "outputs": [],
   "source": [
    "import ast\n",
    "\n",
    "def convert_text_list(texts):\n",
    "    texts = ast.literal_eval(str(texts))\n",
    "    return [text for text in texts]\n",
    "\n",
    "df[\"review_test\"] = df[\"review_stem\"].apply(convert_text_list)"
   ]
  },
  {
   "cell_type": "code",
   "execution_count": 16,
   "id": "c35c9ae7",
   "metadata": {},
   "outputs": [
    {
     "data": {
      "text/plain": [
       "0    {'terkadang': 0.3333333333333333, 'erti': 0.33...\n",
       "1    {'kuliah': 0.25, 'online': 0.25, 'terkadang': ...\n",
       "2                                       {'fokus': 1.0}\n",
       "3    {'terkadang': 0.2, 'fokus': 0.2, 'jalan': 0.2,...\n",
       "4                                      {'hybrid': 1.0}\n",
       "Name: TF, dtype: object"
      ]
     },
     "execution_count": 16,
     "metadata": {},
     "output_type": "execute_result"
    }
   ],
   "source": [
    "# Hitung TF\n",
    "\n",
    "def calc_TF(document):\n",
    "    TF_dict = {}\n",
    "    for term in document:\n",
    "        if term in TF_dict:\n",
    "            TF_dict[term] += 1\n",
    "        else:\n",
    "            TF_dict[term] = 1\n",
    "    for term in TF_dict:\n",
    "        TF_dict[term] = TF_dict[term] / len(document)\n",
    "    return TF_dict\n",
    "\n",
    "df[\"TF\"] = df[\"review_test\"].apply(calc_TF)\n",
    "\n",
    "df[\"TF\"].head()"
   ]
  },
  {
   "cell_type": "code",
   "execution_count": 17,
   "id": "1c891a93",
   "metadata": {},
   "outputs": [
    {
     "name": "stdout",
     "output_type": "stream",
     "text": [
      "{'terkadang': 7, 'erti': 5, 'materi': 7, 'kuliah': 35, 'online': 26, 'offline': 10, 'fokus': 7, 'jalan': 7, 'kelas': 9, 'hybrid': 26, 'suka': 2, 'biaya': 2, 'bayar': 1, 'mahal': 1, 'manfaat': 1, 'oleh': 1, 'sistem': 2, 'serasa': 1, 'fleksibel': 7, 'jadwal': 2, 'ribet': 2, 'bolak': 1, 'kampus': 14, 'efektif': 9, 'teman': 4, 'mahasiswa': 9, 'hadir': 3, 'sakit': 2, 'izin': 1, 'dll': 1, 'ikut': 9, 'ajar': 7, 'bagusbagus': 1, 'si': 1, 'satu': 1, 'sisi': 1, 'kendala': 2, 'koneksi': 1, 'oke': 2, 'rumahbiasanya': 1, 'sepenuh': 1, 'kumpul': 1, 'senang': 3, 'bosan': 2, 'monoton': 2, 'enak': 2, 'rekam': 1, 'kurang': 2, 'produktivitas': 1, 'beda': 3, 'tingkat': 3, 'konsentrasi': 1, 'ngantukngantuk': 1, 'buruk': 2, 'berbedabeda': 1, 'langsung': 3, 'interaksi': 5, 'dosen': 9, 'kamera': 2, 'papan': 1, 'tulis': 1, 'seru': 6, 'tatap': 4, 'muka': 4, 'nyantai': 1, 'full': 6, 'lelah': 1, 'bantu': 4, 'tinggal': 3, 'pergi': 1, 'hemat': 2, 'uang': 1, 'temu': 2, 'lancar': 1, 'keluar': 1, 'tenaga': 1, 'laksana': 2, 'muas': 1, 'guna': 1, 'opsi': 1, 'sempat': 2, 'milik': 2, 'giat': 1, 'luar': 1, 'piranti': 1, 'pada': 4, 'efisien': 3, 'untung': 1, 'fleksibilitas': 1, 'bangun': 1, 'hubung': 1, 'sosial': 1, 'sedia': 1, 'sumber': 1, 'daya': 1, 'lengkap': 1, 'variasi': 1, 'akses': 2, 'platform': 1, 'tantang': 1, 'butuh': 1, 'disiplin': 1, 'atur': 2, 'ketat': 1, 'jaga': 1, 'imbang': 1, 'tambah': 1, 'internet': 1, 'stabil': 1, 'sulit': 4, 'batas': 2, 'mending': 1, 'optimal': 1, 'umn': 3, 'banding': 2, 'repot': 1, 'anak': 1, 'rantau': 1, 'gs': 1, 'santai': 1, 'nyaman': 5, 'mata': 2, 'semester': 1, 'fasilitas': 4, 'mic': 1, 'asinkron': 1, 'zoom': 2, 'pokok': 1, 'relatif': 1, 'mudah': 2, 'laku': 1, 'kali': 1, 'onsitenya': 1, 'utama': 1, 'onsite': 1, 'pribadi': 2, 'bagus': 3, 'kenya': 1, 'meeting': 1, 'tuju': 1, 'alasanalasan': 1, 'sebut': 1, 'tunggu': 1, 'gopay': 1, 'knya': 1, 'kak': 1, 'thnks': 1, 'adaptasi': 1, 'paham': 1, 'memanage': 1, 'jenis': 1, 'daring': 1, 'luring': 1, 'komputer': 1, 'presentasi': 2, 'via': 1, 'kadang': 1, 'ganggu': 2, 'awas': 1, 'matkul': 1, 'tarik': 1, 'itu': 1, 'sering': 1, 'masuk': 1, 'otak': 1, 'contoh': 1, 'doang': 1, 'multitask': 1, 'wajib': 1, 'operasi': 1, 'perangkat': 1, 'dukung': 2, 'tunda': 1, 'dapat': 2, 'pandemi': 2, 'siswa': 1, 'jujur': 1, 'bimbing': 1, 'magang': 1, 'skripsi': 1, 'spesial': 1, 'plus': 1, 'minus': 1, 'sendiri': 1, 'covid': 1, 'kemarin': 1, 'susah': 1, 'gampang': 1, 'terdistraksi': 1, 'kondisi': 2, 'kerja': 1, 'kelompok': 1, 'anggota': 1, 'hambat': 1, 'teknologi': 1, 'lanjut': 1, '': 1, 'nyontek': 1, 'kakak': 1, 'puas': 1, 'hidup': 1, 'minggu': 1, 'apaapa': 1, 'banyak': 1}\n"
     ]
    }
   ],
   "source": [
    "def calc_DF(tfDict):\n",
    "    count_DF = {}\n",
    "    \n",
    "    for document in tfDict:\n",
    "        for term in document:\n",
    "            if term in count_DF:\n",
    "                count_DF[term] += 1\n",
    "            else:\n",
    "                count_DF[term] = 1\n",
    "    return count_DF\n",
    "\n",
    "DF = calc_DF(df[\"TF\"])\n",
    "print(DF)"
   ]
  },
  {
   "cell_type": "code",
   "execution_count": 18,
   "id": "368a2652",
   "metadata": {},
   "outputs": [],
   "source": [
    "# Hitung IDF\n",
    "\n",
    "n_document = len(df)\n",
    "\n",
    "def calc_IDF(__n_document, __DF):\n",
    "    IDF_Dict = {}\n",
    "    for term in __DF:\n",
    "        IDF_Dict[term] = np.log(__n_document / (__DF[term] + 1))\n",
    "    return IDF_Dict\n",
    "\n",
    "IDF = calc_IDF(n_document, DF)"
   ]
  },
  {
   "cell_type": "code",
   "execution_count": 19,
   "id": "8e196d76",
   "metadata": {},
   "outputs": [],
   "source": [
    "# Hitung TF IDF\n",
    "\n",
    "def calc_TF_IDF(TF):\n",
    "    TF_IDF_Dict = {}\n",
    "    for key in TF:\n",
    "        TF_IDF_Dict[key] = TF[key] * IDF[key]\n",
    "    return TF_IDF_Dict\n",
    "\n",
    "df[\"TF_IDF\"] = df[\"TF\"].apply(calc_TF_IDF)"
   ]
  },
  {
   "cell_type": "code",
   "execution_count": 20,
   "id": "9bec1741",
   "metadata": {
    "scrolled": true
   },
   "outputs": [
    {
     "name": "stdout",
     "output_type": "stream",
     "text": [
      "---------------------------------------\n",
      "\n",
      "0     [0.0, 0.0, 0.0, 0.0, 0.0, 0.0, 0.0, 0.0, 0.0, ...\n",
      "1     [0.21770708944934944, 0.28962760756229466, 0.0...\n",
      "2     [0.0, 0.0, 0.0, 0.0, 0.0, 0.0, 0.0, 0.0, 0.0, ...\n",
      "3     [0.0, 0.23170208604983575, 0.0, 0.0, 0.0, 0.43...\n",
      "4     [0.0, 0.0, 1.1585104302491787, 0.0, 0.0, 0.0, ...\n",
      "                            ...                        \n",
      "81    [0.0, 0.0, 0.0, 0.0, 0.0, 0.0, 2.1517622032594...\n",
      "82    [0.0, 0.28962760756229466, 0.0, 0.0, 0.0, 0.0,...\n",
      "83    [0.0, 0.0, 0.0, 0.0, 0.0, 0.0, 0.0, 0.0, 0.0, ...\n",
      "84    [0.0, 0.0, 0.14481380378114733, 0.0, 0.0, 0.0,...\n",
      "85    [0.0, 0.0, 0.0, 0.0, 0.0, 0.0, 0.0, 0.0, 0.0, ...\n",
      "Name: TF_IDF_vec, Length: 86, dtype: object\n",
      "\n",
      "matrix size:  86\n"
     ]
    }
   ],
   "source": [
    "sorted_DF = sorted(DF.items(), key=lambda kv: kv[1], reverse=True)\n",
    "\n",
    "unique_term = [item[0] for item in sorted_DF]\n",
    "\n",
    "def hitung_TF_IDF_Vec(__TF_IDF_Dict):\n",
    "    TF_IDF_vector = [0.0] * len(unique_term)\n",
    "    \n",
    "    for i, term in enumerate(unique_term):\n",
    "        if term in __TF_IDF_Dict:\n",
    "            TF_IDF_vector[i] = __TF_IDF_Dict[term]\n",
    "    return TF_IDF_vector\n",
    "\n",
    "df[\"TF_IDF_vec\"] = df[\"TF_IDF\"].apply(hitung_TF_IDF_Vec)\n",
    "\n",
    "print(\"---------------------------------------\\n\")\n",
    "print(df[\"TF_IDF_vec\"])\n",
    "print()\n",
    "print(\"matrix size: \", len(df[\"TF_IDF_vec\"]))"
   ]
  },
  {
   "cell_type": "code",
   "execution_count": 21,
   "id": "9af7aa88",
   "metadata": {
    "scrolled": false
   },
   "outputs": [
    {
     "data": {
      "text/html": [
       "<div>\n",
       "<style scoped>\n",
       "    .dataframe tbody tr th:only-of-type {\n",
       "        vertical-align: middle;\n",
       "    }\n",
       "\n",
       "    .dataframe tbody tr th {\n",
       "        vertical-align: top;\n",
       "    }\n",
       "\n",
       "    .dataframe thead th {\n",
       "        text-align: right;\n",
       "    }\n",
       "</style>\n",
       "<table border=\"1\" class=\"dataframe\">\n",
       "  <thead>\n",
       "    <tr style=\"text-align: right;\">\n",
       "      <th></th>\n",
       "      <th>term</th>\n",
       "      <th>rank</th>\n",
       "    </tr>\n",
       "  </thead>\n",
       "  <tbody>\n",
       "    <tr>\n",
       "      <th>16</th>\n",
       "      <td>seru</td>\n",
       "      <td>7.817962</td>\n",
       "    </tr>\n",
       "    <tr>\n",
       "      <th>0</th>\n",
       "      <td>kuliah</td>\n",
       "      <td>5.874455</td>\n",
       "    </tr>\n",
       "    <tr>\n",
       "      <th>2</th>\n",
       "      <td>hybrid</td>\n",
       "      <td>5.396675</td>\n",
       "    </tr>\n",
       "    <tr>\n",
       "      <th>20</th>\n",
       "      <td>nyaman</td>\n",
       "      <td>4.847211</td>\n",
       "    </tr>\n",
       "    <tr>\n",
       "      <th>14</th>\n",
       "      <td>fleksibel</td>\n",
       "      <td>4.790421</td>\n",
       "    </tr>\n",
       "    <tr>\n",
       "      <th>...</th>\n",
       "      <td>...</td>\n",
       "      <td>...</td>\n",
       "    </tr>\n",
       "    <tr>\n",
       "      <th>113</th>\n",
       "      <td>daya</td>\n",
       "      <td>0.067164</td>\n",
       "    </tr>\n",
       "    <tr>\n",
       "      <th>112</th>\n",
       "      <td>sumber</td>\n",
       "      <td>0.067164</td>\n",
       "    </tr>\n",
       "    <tr>\n",
       "      <th>111</th>\n",
       "      <td>sedia</td>\n",
       "      <td>0.067164</td>\n",
       "    </tr>\n",
       "    <tr>\n",
       "      <th>106</th>\n",
       "      <td>untung</td>\n",
       "      <td>0.067164</td>\n",
       "    </tr>\n",
       "    <tr>\n",
       "      <th>116</th>\n",
       "      <td>platform</td>\n",
       "      <td>0.067164</td>\n",
       "    </tr>\n",
       "  </tbody>\n",
       "</table>\n",
       "<p>204 rows × 2 columns</p>\n",
       "</div>"
      ],
      "text/plain": [
       "          term      rank\n",
       "16        seru  7.817962\n",
       "0       kuliah  5.874455\n",
       "2       hybrid  5.396675\n",
       "20      nyaman  4.847211\n",
       "14   fleksibel  4.790421\n",
       "..         ...       ...\n",
       "113       daya  0.067164\n",
       "112     sumber  0.067164\n",
       "111      sedia  0.067164\n",
       "106     untung  0.067164\n",
       "116   platform  0.067164\n",
       "\n",
       "[204 rows x 2 columns]"
      ]
     },
     "execution_count": 21,
     "metadata": {},
     "output_type": "execute_result"
    }
   ],
   "source": [
    "TF_IDF_Vec_List = np.array(df[\"TF_IDF_vec\"].to_list())\n",
    "\n",
    "sums = TF_IDF_Vec_List.sum(axis=0)\n",
    "\n",
    "data = []\n",
    "\n",
    "for col, term in enumerate(unique_term):\n",
    "    data.append((term, sums[col]))\n",
    "    \n",
    "ranking = pd.DataFrame(data, columns=['term', 'rank'])\n",
    "ranking.sort_values('rank', ascending=False)"
   ]
  },
  {
   "cell_type": "code",
   "execution_count": 22,
   "id": "4591125d",
   "metadata": {},
   "outputs": [],
   "source": [
    "import ast\n",
    "\n",
    "def join_text_list(texts):\n",
    "    texts = ast.literal_eval(str(texts))\n",
    "    return ' '.join([text for text in texts])\n",
    "\n",
    "df[\"review_join\"] = df[\"review_stem\"].apply(join_text_list)"
   ]
  },
  {
   "cell_type": "code",
   "execution_count": 23,
   "id": "14dc4464",
   "metadata": {},
   "outputs": [],
   "source": [
    "corpus = []\n",
    "\n",
    "for i in df[\"review_join\"]:\n",
    "    corpus.append(i)"
   ]
  },
  {
   "cell_type": "code",
   "execution_count": 24,
   "id": "5567b137",
   "metadata": {
    "scrolled": true
   },
   "outputs": [
    {
     "name": "stdout",
     "output_type": "stream",
     "text": [
      "  (0, 187)\t0.5434777888975428\n",
      "  (0, 39)\t0.6397372788497445\n",
      "  (0, 105)\t0.5434777888975428\n",
      "  (1, 187)\t0.7183753343213333\n",
      "  (1, 87)\t0.2219609938421321\n",
      "  (1, 126)\t0.2949889938366569\n",
      "  (1, 123)\t0.5896199536706356\n",
      "  (2, 43)\t1.0\n",
      "  (3, 187)\t0.5044349072955252\n",
      "  (3, 126)\t0.20713788273336506\n",
      "  (3, 43)\t0.5044349072955252\n",
      "  (3, 65)\t0.5044349072955252\n",
      "  (3, 74)\t0.44014789610084865\n",
      "  (4, 56)\t1.0\n",
      "  (6, 87)\t0.06625686800017401\n",
      "  (6, 126)\t0.08805622324812969\n",
      "  (6, 56)\t0.08805622324812969\n",
      "  (6, 174)\t0.3566459436090342\n",
      "  (6, 20)\t0.3566459436090342\n",
      "  (6, 17)\t0.4259429458131105\n",
      "  (6, 100)\t0.4259429458131105\n",
      "  (6, 102)\t0.4259429458131105\n",
      "  (6, 125)\t0.4259429458131105\n",
      "  (7, 174)\t0.7071067811865476\n",
      "  (7, 168)\t0.7071067811865476\n",
      "  :\t:\n",
      "  (76, 87)\t0.10604830899915284\n",
      "  (76, 14)\t0.44510745993415946\n",
      "  (76, 135)\t0.5708343960817158\n",
      "  (76, 94)\t0.6817486322094115\n",
      "  (77, 28)\t1.0\n",
      "  (78, 122)\t0.7071067811865476\n",
      "  (78, 70)\t0.7071067811865476\n",
      "  (79, 78)\t1.0\n",
      "  (81, 36)\t1.0\n",
      "  (82, 126)\t0.16480625049743858\n",
      "  (82, 44)\t0.43362121020033656\n",
      "  (82, 12)\t0.6674994515231414\n",
      "  (82, 10)\t0.5824568894585045\n",
      "  (83, 160)\t0.4589977703268398\n",
      "  (83, 146)\t0.6282201233783384\n",
      "  (83, 54)\t0.6282201233783384\n",
      "  (84, 39)\t0.27498687448152453\n",
      "  (84, 105)\t0.23361036391028617\n",
      "  (84, 56)\t0.09592824656878553\n",
      "  (84, 44)\t0.2523965095013162\n",
      "  (84, 90)\t0.3885292686228317\n",
      "  (84, 112)\t0.46402126304074465\n",
      "  (84, 6)\t0.46402126304074465\n",
      "  (84, 15)\t0.46402126304074465\n",
      "  (85, 165)\t1.0\n"
     ]
    }
   ],
   "source": [
    "vectorizer = TfidfVectorizer()\n",
    "\n",
    "X_cv = vectorizer.fit_transform(corpus)\n",
    "tf_transformer = TfidfTransformer(use_idf=True).fit(X_cv)\n",
    "X_tf = tf_transformer.transform(X_cv)\n",
    "\n",
    "print(X_tf)"
   ]
  },
  {
   "cell_type": "markdown",
   "id": "24798ee7",
   "metadata": {},
   "source": [
    "# Implementasi Algoritma MNB"
   ]
  },
  {
   "cell_type": "code",
   "execution_count": 25,
   "id": "6ba32cc1",
   "metadata": {},
   "outputs": [
    {
     "data": {
      "text/plain": [
       "Positif    35\n",
       "Netral     17\n",
       "Negatif    16\n",
       "Name: Label, dtype: int64"
      ]
     },
     "execution_count": 25,
     "metadata": {},
     "output_type": "execute_result"
    }
   ],
   "source": [
    "# Split data\n",
    "\n",
    "X_train, X_test, y_train, y_test = train_test_split(X_tf, df['Label'], test_size=0.2, random_state=0)\n",
    "\n",
    "y_train.value_counts()"
   ]
  },
  {
   "cell_type": "code",
   "execution_count": 26,
   "id": "9c54a3af",
   "metadata": {},
   "outputs": [
    {
     "name": "stdout",
     "output_type": "stream",
     "text": [
      "              precision    recall  f1-score   support\n",
      "\n",
      "     Negatif       1.00      1.00      1.00         1\n",
      "      Netral       0.00      0.00      0.00         4\n",
      "     Positif       0.76      1.00      0.87        13\n",
      "\n",
      "    accuracy                           0.78        18\n",
      "   macro avg       0.59      0.67      0.62        18\n",
      "weighted avg       0.61      0.78      0.68        18\n",
      "\n",
      "---------------------------------------\n",
      "Accuracy: 77.77777777777779\n"
     ]
    }
   ],
   "source": [
    "# Implementasi algoritma MNB dan nilai akurasi\n",
    "\n",
    "nb = MultinomialNB()\n",
    "nb.fit(X_train, y_train)\n",
    "\n",
    "nb_pred = nb.predict(X_test)\n",
    "\n",
    "cm = confusion_matrix(y_test, nb_pred)\n",
    "\n",
    "print(classification_report(y_test, nb_pred, zero_division=0))\n",
    "print(\"---------------------------------------\")\n",
    "print(\"Accuracy:\", accuracy_score(y_test,nb_pred)*100)"
   ]
  },
  {
   "cell_type": "code",
   "execution_count": 27,
   "id": "65609fb4",
   "metadata": {},
   "outputs": [
    {
     "data": {
      "image/png": "[encoded data removed]",
      "text/plain": [
       "<Figure size 640x480 with 2 Axes>"
      ]
     },
     "metadata": {},
     "output_type": "display_data"
    }
   ],
   "source": [
    "labels = ['Negatif', 'Netral', 'Positif']\n",
    "sns.heatmap(cm, annot=True, xticklabels=labels, yticklabels=labels, cmap=\"YlGnBu\")\n",
    "plt.xlabel('Prediksi')\n",
    "plt.ylabel('Aktual');"
   ]
  },
  {
   "cell_type": "markdown",
   "id": "875c535a",
   "metadata": {},
   "source": [
    "# Pengujian Menggunakan Data Baru"
   ]
  },
  {
   "cell_type": "code",
   "execution_count": 28,
   "id": "bd8367fc",
   "metadata": {},
   "outputs": [],
   "source": [
    "def preprocess_data(text):\n",
    "    lower = lower_cases(text)\n",
    "    punctuation = remove_punctuation(lower)\n",
    "    number = remove_numbers(punctuation)\n",
    "    whitespace = remove_whitespace(number)\n",
    "    emoji = remove_emojis(whitespace)\n",
    "    \n",
    "    words = tokenization(emoji)\n",
    "\n",
    "    stop_words = set(stopwords.words('indonesian'))\n",
    "    words = [word for word in words if word not in stop_words]\n",
    "    \n",
    "    factory = StemmerFactory()\n",
    "    stemmer = factory.create_stemmer()\n",
    "    stemmed_words = [stemmer.stem(word) for word in words]\n",
    "    text = ' '.join(stemmed_words)\n",
    "    \n",
    "    return text"
   ]
  },
  {
   "cell_type": "code",
   "execution_count": 29,
   "id": "908ecd68",
   "metadata": {},
   "outputs": [
    {
     "name": "stdout",
     "output_type": "stream",
     "text": [
      "Teks: Kurang memadai sebenarnya, masih kurang dalam fasilitas untuk online, seperti mic dan kamera\n",
      "Prediksi Sentimen: Negatif\n",
      "\n",
      "Teks: Ada beberapa dosen yang saya rasa mengajar lebih optimal saat online dan sebaliknya. Dapat terlihat perbedaannya\n",
      "Prediksi Sentimen: Netral\n",
      "\n",
      "Teks: Suka banget karena bisa pilih mau datang atau dirumah\n",
      "Prediksi Sentimen: Positif\n",
      "\n"
     ]
    }
   ],
   "source": [
    "# Data baru yang akan diprediksi\n",
    "new_data = [\n",
    "    \"Kurang memadai sebenarnya, masih kurang dalam fasilitas untuk online, seperti mic dan kamera\",\n",
    "    \"Ada beberapa dosen yang saya rasa mengajar lebih optimal saat online dan sebaliknya. Dapat terlihat perbedaannya\",\n",
    "    \"Suka banget karena bisa pilih mau datang atau dirumah\"\n",
    "]\n",
    "\n",
    "# Preprocessing pada data baru\n",
    "new_data_processed = [preprocess_data(text) for text in new_data]\n",
    "\n",
    "# Transformasi TF-IDF pada data baru\n",
    "new_data_tfidf = vectorizer.transform(new_data_processed)\n",
    "\n",
    "# Melakukan prediksi pada data baru\n",
    "new_data_pred = nb.predict(new_data_tfidf)\n",
    "\n",
    "# Menampilkan hasil prediksi\n",
    "for i in range(len(new_data)):\n",
    "    print(\"Teks:\", new_data[i])\n",
    "    print(\"Prediksi Sentimen:\", new_data_pred[i])\n",
    "    print()"
   ]
  }
 ],
 "metadata": {
  "kernelspec": {
   "display_name": "Python 3 (ipykernel)",
   "language": "python",
   "name": "python3"
  },
  "language_info": {
   "codemirror_mode": {
    "name": "ipython",
    "version": 3
   },
   "file_extension": ".py",
   "mimetype": "text/x-python",
   "name": "python",
   "nbconvert_exporter": "python",
   "pygments_lexer": "ipython3",
   "version": "3.10.9"
  }
 },
 "nbformat": 4,
 "nbformat_minor": 5
}
